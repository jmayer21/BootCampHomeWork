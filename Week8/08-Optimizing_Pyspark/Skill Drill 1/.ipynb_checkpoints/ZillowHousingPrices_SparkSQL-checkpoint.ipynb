{
 "cells": [
  {
   "cell_type": "code",
   "execution_count": 1,
   "metadata": {
    "colab": {
     "base_uri": "https://localhost:8080/"
    },
    "id": "Y-JZ_LqeE3y0",
    "outputId": "6f8b0510-61ff-4780-8629-e749d8646a9a"
   },
   "outputs": [
    {
     "name": "stdout",
     "output_type": "stream",
     "text": [
      "\r",
      "0% [Working]\r",
      "            \r",
      "Get:1 http://security.ubuntu.com/ubuntu bionic-security InRelease [88.7 kB]\n",
      "\r",
      "0% [Connecting to archive.ubuntu.com (91.189.88.142)] [1 InRelease 14.2 kB/88.7\r",
      "                                                                               \r",
      "Get:2 https://cloud.r-project.org/bin/linux/ubuntu bionic-cran40/ InRelease [3,626 B]\n",
      "\r",
      "0% [Connecting to archive.ubuntu.com (91.189.88.142)] [1 InRelease 40.2 kB/88.7\r",
      "0% [Connecting to archive.ubuntu.com (91.189.88.142)] [1 InRelease 88.7 kB/88.7\r",
      "0% [Connecting to archive.ubuntu.com (91.189.88.142)] [Connecting to ppa.launch\r",
      "0% [2 InRelease gpgv 3,626 B] [Connecting to archive.ubuntu.com (91.189.88.142)\r",
      "                                                                               \r",
      "Ign:3 https://developer.download.nvidia.com/compute/cuda/repos/ubuntu1804/x86_64  InRelease\n",
      "\r",
      "0% [2 InRelease gpgv 3,626 B] [Waiting for headers] [Connecting to ppa.launchpa\r",
      "                                                                               \r",
      "Hit:4 http://archive.ubuntu.com/ubuntu bionic InRelease\n",
      "\r",
      "0% [2 InRelease gpgv 3,626 B] [Waiting for headers] [Waiting for headers] [Wait\r",
      "                                                                               \r",
      "Ign:5 https://developer.download.nvidia.com/compute/machine-learning/repos/ubuntu1804/x86_64  InRelease\n",
      "\r",
      "                                                                               \r",
      "0% [2 InRelease gpgv 3,626 B] [Waiting for headers] [Waiting for headers]\r",
      "                                                                         \r",
      "Get:6 https://developer.download.nvidia.com/compute/cuda/repos/ubuntu1804/x86_64  Release [697 B]\n",
      "\r",
      "0% [2 InRelease gpgv 3,626 B] [Waiting for headers] [Waiting for headers]\r",
      "                                                                         \r",
      "Hit:7 https://developer.download.nvidia.com/compute/machine-learning/repos/ubuntu1804/x86_64  Release\n",
      "\r",
      "0% [2 InRelease gpgv 3,626 B] [Waiting for headers] [Waiting for headers]\r",
      "                                                                         \r",
      "Get:8 http://ppa.launchpad.net/c2d4u.team/c2d4u4.0+/ubuntu bionic InRelease [15.9 kB]\n",
      "\r",
      "0% [2 InRelease gpgv 3,626 B] [Waiting for headers] [8 InRelease 2,572 B/15.9 k\r",
      "                                                                               \r",
      "Get:9 https://developer.download.nvidia.com/compute/cuda/repos/ubuntu1804/x86_64  Release.gpg [836 B]\n",
      "Get:10 http://archive.ubuntu.com/ubuntu bionic-updates InRelease [88.7 kB]\n",
      "Get:11 https://cloud.r-project.org/bin/linux/ubuntu bionic-cran40/ Packages [53.9 kB]\n",
      "Hit:12 http://ppa.launchpad.net/cran/libgit2/ubuntu bionic InRelease\n",
      "Get:13 http://archive.ubuntu.com/ubuntu bionic-backports InRelease [74.6 kB]\n",
      "Hit:14 http://ppa.launchpad.net/deadsnakes/ppa/ubuntu bionic InRelease\n",
      "Get:15 http://security.ubuntu.com/ubuntu bionic-security/restricted amd64 Packages [396 kB]\n",
      "Get:16 http://security.ubuntu.com/ubuntu bionic-security/multiverse amd64 Packages [24.7 kB]\n",
      "Get:17 http://security.ubuntu.com/ubuntu bionic-security/main amd64 Packages [2,116 kB]\n",
      "Get:18 http://ppa.launchpad.net/graphics-drivers/ppa/ubuntu bionic InRelease [15.9 kB]\n",
      "Get:19 http://security.ubuntu.com/ubuntu bionic-security/universe amd64 Packages [1,410 kB]\n",
      "Ign:21 https://developer.download.nvidia.com/compute/cuda/repos/ubuntu1804/x86_64  Packages\n",
      "Get:21 https://developer.download.nvidia.com/compute/cuda/repos/ubuntu1804/x86_64  Packages [742 kB]\n",
      "Get:22 http://ppa.launchpad.net/c2d4u.team/c2d4u4.0+/ubuntu bionic/main Sources [1,759 kB]\n",
      "Get:23 http://archive.ubuntu.com/ubuntu bionic-updates/multiverse amd64 Packages [31.6 kB]\n",
      "Get:24 http://archive.ubuntu.com/ubuntu bionic-updates/universe amd64 Packages [2,181 kB]\n",
      "Get:25 http://archive.ubuntu.com/ubuntu bionic-updates/main amd64 Packages [2,546 kB]\n",
      "Get:26 http://ppa.launchpad.net/c2d4u.team/c2d4u4.0+/ubuntu bionic/main amd64 Packages [900 kB]\n",
      "Get:27 http://archive.ubuntu.com/ubuntu bionic-updates/restricted amd64 Packages [426 kB]\n",
      "Get:28 http://ppa.launchpad.net/graphics-drivers/ppa/ubuntu bionic/main amd64 Packages [53.2 kB]\n",
      "Fetched 12.9 MB in 4s (3,477 kB/s)\n",
      "Reading package lists... Done\n"
     ]
    }
   ],
   "source": [
    "import os\n",
    "# Find the latest version of spark 3.0  from http://www-us.apache.org/dist/spark/ and enter as the spark version\n",
    "# For example:\n",
    "# spark_version = 'spark-3.0.1'\n",
    "spark_version = 'spark-3.0.2'\n",
    "os.environ['SPARK_VERSION']=spark_version\n",
    "\n",
    "# Install Spark and Java\n",
    "!apt-get update\n",
    "!apt-get install openjdk-11-jdk-headless -qq > /dev/null\n",
    "!wget -q http://www-us.apache.org/dist/spark/$SPARK_VERSION/$SPARK_VERSION-bin-hadoop2.7.tgz\n",
    "!tar xf $SPARK_VERSION-bin-hadoop2.7.tgz\n",
    "!pip install -q findspark\n",
    "\n",
    "# Set Environment Variables\n",
    "os.environ[\"JAVA_HOME\"] = \"/usr/lib/jvm/java-11-openjdk-amd64\"\n",
    "os.environ[\"SPARK_HOME\"] = f\"/content/{spark_version}-bin-hadoop2.7\"\n",
    "\n",
    "# Start a SparkSession\n",
    "import findspark\n",
    "findspark.init()"
   ]
  },
  {
   "cell_type": "code",
   "execution_count": 2,
   "metadata": {
    "colab": {
     "base_uri": "https://localhost:8080/"
    },
    "id": "FRuDW8AvFGIL",
    "outputId": "a7ef583b-2f31-4896-9028-b83d0fad9bc6"
   },
   "outputs": [
    {
     "name": "stdout",
     "output_type": "stream",
     "text": [
      "--2021-05-02 21:56:47--  https://jdbc.postgresql.org/download/postgresql-42.2.9.jar\n",
      "Resolving jdbc.postgresql.org (jdbc.postgresql.org)... 72.32.157.228, 2001:4800:3e1:1::228\n",
      "Connecting to jdbc.postgresql.org (jdbc.postgresql.org)|72.32.157.228|:443... connected.\n",
      "HTTP request sent, awaiting response... 200 OK\n",
      "Length: 914037 (893K) [application/java-archive]\n",
      "Saving to: ‘postgresql-42.2.9.jar’\n",
      "\n",
      "postgresql-42.2.9.j 100%[===================>] 892.61K  5.22MB/s    in 0.2s    \n",
      "\n",
      "2021-05-02 21:56:47 (5.22 MB/s) - ‘postgresql-42.2.9.jar’ saved [914037/914037]\n",
      "\n"
     ]
    }
   ],
   "source": [
    "!wget https://jdbc.postgresql.org/download/postgresql-42.2.9.jar"
   ]
  },
  {
   "cell_type": "code",
   "execution_count": 3,
   "metadata": {
    "id": "aPmDCtaQFVCu"
   },
   "outputs": [],
   "source": [
    "# Start Spark session\n",
    "from pyspark.sql import SparkSession\n",
    "spark = SparkSession.builder.appName(\"Zillow Housing Prices\").config(\"spark.driver.extraClassPath\",\"/content/postgresql-42.2.9.jar\").getOrCreate()"
   ]
  },
  {
   "cell_type": "code",
   "execution_count": 6,
   "metadata": {
    "id": "mdWoUZOCFedO"
   },
   "outputs": [],
   "source": [
    "# Read in data from S3 Bucket\n",
    "from pyspark import SparkFiles\n",
    "url = \"https://2u-data-curriculum-team.s3.amazonaws.com/dataviz-netflix/unit-7/zillow_housing_prices.csv\"\n",
    "spark.sparkContext.addFile(url)\n",
    "Zhousing_df = spark.read.option('header','true').csv(SparkFiles.get(\"zillow_housing_prices.csv\"),inferSchema=True, sep=\",\", timestampFormat = \"mm/dd/yy\")"
   ]
  },
  {
   "cell_type": "code",
   "execution_count": 7,
   "metadata": {
    "id": "1WeIRf5BFjJ-"
   },
   "outputs": [],
   "source": [
    "#Create a temp view of your dataframe\n",
    "Zhousing_df.createOrReplaceTempView('prices')"
   ]
  },
  {
   "cell_type": "code",
   "execution_count": 12,
   "metadata": {
    "colab": {
     "base_uri": "https://localhost:8080/"
    },
    "id": "mWaqTmilFrZW",
    "outputId": "e2019474-563d-4b0e-afdb-d1a5c1261cbb"
   },
   "outputs": [
    {
     "name": "stdout",
     "output_type": "stream",
     "text": [
      "+------------+------------------+\n",
      "|   StateName|      averagePrice|\n",
      "+------------+------------------+\n",
      "|        Utah|          345200.0|\n",
      "|      Hawaii|         572868.75|\n",
      "|   Minnesota|256823.59550561797|\n",
      "|        Ohio| 179073.9393939394|\n",
      "|      Oregon| 342466.6666666667|\n",
      "|    Arkansas|162611.42857142858|\n",
      "|       Texas|266331.35135135136|\n",
      "|North Dakota|230916.66666666666|\n",
      "|Pennsylvania|246516.66666666666|\n",
      "| Connecticut|291745.28301886795|\n",
      "|    Nebraska|191727.27272727274|\n",
      "|      Nevada|          327370.0|\n",
      "|  Washington|438228.30188679247|\n",
      "|    Illinois| 234485.7142857143|\n",
      "|    Oklahoma|162641.93548387097|\n",
      "+------------+------------------+\n",
      "only showing top 15 rows\n",
      "\n"
     ]
    }
   ],
   "source": [
    "#Cast 2020-01 column as float and display the average price per state using Spark SQL\n",
    "spark.sql('''select StateName, sum(cast(`2020-01` as float))/count(`2020-01`) as averagePrice from prices group by StateName''').show(15)"
   ]
  },
  {
   "cell_type": "code",
   "execution_count": 13,
   "metadata": {
    "colab": {
     "base_uri": "https://localhost:8080/"
    },
    "id": "0dH_RheIGhA8",
    "outputId": "1ec55293-bb6c-477a-80be-30dc420b98ba"
   },
   "outputs": [
    {
     "name": "stdout",
     "output_type": "stream",
     "text": [
      "+------------+------------------+\n",
      "|   StateName|            SQLAVG|\n",
      "+------------+------------------+\n",
      "|        Utah|  347562.962962963|\n",
      "|      Hawaii|          592525.0|\n",
      "|   Minnesota|261769.76744186046|\n",
      "|        Ohio|182818.30065359478|\n",
      "|      Oregon|348658.82352941175|\n",
      "|    Arkansas|165128.57142857142|\n",
      "|       Texas| 269829.6703296703|\n",
      "|North Dakota|          232660.0|\n",
      "|Pennsylvania| 250119.6261682243|\n",
      "| Connecticut| 297518.8679245283|\n",
      "|    Nebraska|          198640.0|\n",
      "|      Nevada|          327770.0|\n",
      "|  Washington| 439433.3333333333|\n",
      "|    Illinois|232948.19277108434|\n",
      "|    Oklahoma|165754.83870967742|\n",
      "+------------+------------------+\n",
      "only showing top 15 rows\n",
      "\n"
     ]
    }
   ],
   "source": [
    "# Repeat the same cast and average price for the month of February or 2020-02 using SparkSQL\n",
    "spark.sql('''select StateName, sum(cast(`2020-02` as float))/count(`2020-02`) as SQLAVG from prices group by StateName''').show(15)"
   ]
  },
  {
   "cell_type": "code",
   "execution_count": 10,
   "metadata": {
    "colab": {
     "base_uri": "https://localhost:8080/"
    },
    "id": "8oJRiztSGwa-",
    "outputId": "10d9c4b8-a042-41fa-f455-ef8823f54f64"
   },
   "outputs": [
    {
     "name": "stdout",
     "output_type": "stream",
     "text": [
      "+-------------+------------------+\n",
      "|    StateName|            SQLAVG|\n",
      "+-------------+------------------+\n",
      "|         Ohio|182818.30065359478|\n",
      "|     Arkansas|165128.57142857142|\n",
      "|     Nebraska|          198640.0|\n",
      "|     Oklahoma|165754.83870967742|\n",
      "|West Virginia|          184400.0|\n",
      "|         Iowa|        184290.625|\n",
      "|     Kentucky|          184020.0|\n",
      "|    Louisiana|196130.30303030304|\n",
      "|  Mississippi|         180293.75|\n",
      "|      Indiana|192643.83561643836|\n",
      "+-------------+------------------+\n",
      "\n"
     ]
    }
   ],
   "source": [
    "# Repeat the same cast and average price per state for the month of February, but filter out any states with greater than $200000 average price\n",
    "less_200K = spark.sql('''with February as \n",
    "                  (select StateName, \n",
    "                  sum(cast(`2020-02` as float))/count(`2020-02`) as SQLAVG \n",
    "                  from prices group by StateName)\n",
    "                  select * from February where SQLAVG <= 200000''')\n",
    "less_200K.show()"
   ]
  },
  {
   "cell_type": "code",
   "execution_count": 11,
   "metadata": {
    "id": "QVOr0BwoHAX1"
   },
   "outputs": [],
   "source": [
    "# Convert your SparkSQL dataframe into a Pandas dataframe and save your Pandas dataframe into a CSV file\n",
    "under_200K = less_200K.toPandas()\n",
    "under_200K\n",
    "under_200K.to_csv(\"under_200k.csv\")"
   ]
  },
  {
   "cell_type": "code",
   "execution_count": null,
   "metadata": {
    "id": "TflnM9fHHLY1"
   },
   "outputs": [],
   "source": []
  }
 ],
 "metadata": {
  "colab": {
   "name": "ZillowHousingPrices_SparkSQL.ipynb",
   "provenance": []
  },
  "kernelspec": {
   "display_name": "Python 3",
   "language": "python",
   "name": "python3"
  },
  "language_info": {
   "codemirror_mode": {
    "name": "ipython",
    "version": 3
   },
   "file_extension": ".py",
   "mimetype": "text/x-python",
   "name": "python",
   "nbconvert_exporter": "python",
   "pygments_lexer": "ipython3",
   "version": "3.8.8"
  }
 },
 "nbformat": 4,
 "nbformat_minor": 1
}
